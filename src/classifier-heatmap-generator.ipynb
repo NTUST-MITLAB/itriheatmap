{
 "cells": [
  {
   "cell_type": "code",
   "execution_count": null,
   "metadata": {},
   "outputs": [],
   "source": [
    "from matplotlib import pyplot as plt\n",
    "from matplotlib.patches import Circle\n",
    "\n",
    "from sklearn.model_selection import train_test_split\n",
    "from keras.models import Sequential\n",
    "from keras.layers import Dense\n",
    "from pylab import *\n",
    "\n",
    "import pickle\n",
    "import keras\n",
    "import loadnotebook\n",
    "from predictionhelper import *\n",
    "\n",
    "import warnings\n",
    "warnings.filterwarnings('ignore')"
   ]
  },
  {
   "cell_type": "markdown",
   "metadata": {},
   "source": [
    "# Predicted Data Preparation "
   ]
  },
  {
   "cell_type": "code",
   "execution_count": null,
   "metadata": {},
   "outputs": [],
   "source": [
    "x_cut = 50  \n",
    "y_cut = 100 \n",
    "\n",
    "old_origin_img = cv2.imread('../image/map.png',0)\n",
    "crop = old_origin_img[y_cut:318, x_cut:927]\n",
    "crop = cv2.cvtColor(crop, cv2.COLOR_GRAY2RGB)\n",
    "\n",
    "x_coord_list = []\n",
    "y_coord_list = []\n",
    "pci_list = []\n",
    "for lon in range(0, crop.shape[1]) :\n",
    "    for lat in range(0, crop.shape[0]) :\n",
    "        x_coord_list.append(x_cut + lon)\n",
    "        y_coord_list.append(y_cut + lat)\n",
    "        \n",
    "background = get_map_image(black_white=True)\n",
    "x_coord_view = [lon for lon in x_coord_list]\n",
    "y_coord_view = [lat for lat in y_coord_list]\n",
    "\n",
    "all_x_pci = pd.DataFrame({'location_x':x_coord_list, 'location_y':y_coord_list})"
   ]
  },
  {
   "cell_type": "markdown",
   "metadata": {},
   "source": [
    "# Predict"
   ]
  },
  {
   "cell_type": "code",
   "execution_count": null,
   "metadata": {},
   "outputs": [],
   "source": [
    "def add_custom_feature(df, power_val) :\n",
    "    for p in power_val :\n",
    "        df[\"Power_\" + str(p)] = power_val[p]\n",
    "    df = add_distance(df)\n",
    "    df = add_angle_map(df)\n",
    "    return df"
   ]
  },
  {
   "cell_type": "code",
   "execution_count": null,
   "metadata": {},
   "outputs": [],
   "source": [
    "s = None\n",
    "powers = {37:-2, 38:3, 39:0, 40:5, 41:-1, 42:16}\n",
    "ml_name = 'xgboost'\n",
    "training_method = 'baseline' #use set \n",
    "# training_method = 'independent_set_%d' % (s) \n",
    "# training_method = 'transfer_except_%d' % (s)  "
   ]
  },
  {
   "cell_type": "code",
   "execution_count": null,
   "metadata": {},
   "outputs": [],
   "source": [
    "model_name = 'db/%s_%s_%s' % ('PCI', ml_name, training_method)\n",
    "model = pickle.load(open(model_name + \".pickle.dat\", \"rb\"))\n",
    "\n",
    "if s is None :\n",
    "    all_x_data = add_custom_feature(pd.DataFrame(all_x_pci), powers)\n",
    "else :\n",
    "    all_x_data = add_features(pd.DataFrame(all_x_pci), 6, s)\n",
    "    beam_columns = [c for c in all_x_data if \"beam\" in c]\n",
    "    all_x_data = all_x_data.drop(beam_columns, axis=1)\n",
    "    \n",
    "if 'transfer' not in training_method:\n",
    "    all_x_data['set'] = s if s is not None else 0"
   ]
  },
  {
   "cell_type": "code",
   "execution_count": null,
   "metadata": {},
   "outputs": [],
   "source": [
    "proba = False"
   ]
  },
  {
   "cell_type": "code",
   "execution_count": null,
   "metadata": {},
   "outputs": [],
   "source": [
    "s_name = s if s is not None else 0\n",
    "if not proba :\n",
    "    y_pred = model.predict(all_x_data)\n",
    "    path = \"../results/predicted/pci/%s/priority_%d_set_%d.png\" % (ml_name, 6, s_name)\n",
    "    a = visualize_pci_heatmap(background, x_coord_view, y_coord_view, y_pred, path)\n",
    "else :\n",
    "    y_pred=model.predict_proba(all_x_data)\n",
    "    pci_interference = np.max(y_pred, axis=1)\n",
    "    normalize_pci_interference = matplotlib.colors.Normalize(vmin=min(pci_interference), \n",
    "                                                             vmax=max(pci_interference))\n",
    "\n",
    "    pci_interference = [cmap(normalize_pci_interference(value))[:3] for value in pci_interference]\n",
    "    pci_interference = [[int(x*255) for x in value] for value in pci_interference]    \n",
    "    path = \"../results/predicted/pci_interference/%s/confidence_pci/priority_%d_set_%d.png\" % \\\n",
    "    (ml_name, 6, s_name)\n",
    "    a=visualize_all_location_heatmap(background, x_coord_view, y_coord_view, pci_interference, \n",
    "                                     cmap, normalize_pci_interference, filename=path,\n",
    "                                     size=1, figsize=(20,10), adjustment=True, show=False)"
   ]
  },
  {
   "cell_type": "code",
   "execution_count": null,
   "metadata": {},
   "outputs": [],
   "source": []
  }
 ],
 "metadata": {
  "kernelspec": {
   "display_name": "Python 3",
   "language": "python",
   "name": "python3"
  },
  "language_info": {
   "codemirror_mode": {
    "name": "ipython",
    "version": 3
   },
   "file_extension": ".py",
   "mimetype": "text/x-python",
   "name": "python",
   "nbconvert_exporter": "python",
   "pygments_lexer": "ipython3",
   "version": "3.6.5"
  }
 },
 "nbformat": 4,
 "nbformat_minor": 2
}
