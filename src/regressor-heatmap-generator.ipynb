{
 "cells": [
  {
   "cell_type": "code",
   "execution_count": null,
   "metadata": {},
   "outputs": [],
   "source": [
    "from matplotlib import pyplot as plt\n",
    "from matplotlib.patches import Circle\n",
    "\n",
    "from sklearn.model_selection import train_test_split\n",
    "from keras.models import Sequential\n",
    "from keras.layers import Dense\n",
    "from pylab import *\n",
    "\n",
    "import pickle\n",
    "import keras\n",
    "import loadnotebook\n",
    "from predictionhelper import *\n",
    "\n",
    "import warnings\n",
    "warnings.filterwarnings('ignore')"
   ]
  },
  {
   "cell_type": "markdown",
   "metadata": {},
   "source": [
    "# Predicted Data Preparation "
   ]
  },
  {
   "cell_type": "code",
   "execution_count": null,
   "metadata": {},
   "outputs": [],
   "source": [
    "x_cut = 50  \n",
    "y_cut = 100 \n",
    "\n",
    "old_origin_img = cv2.imread('../image/map.png',0)\n",
    "crop = old_origin_img[y_cut:318, x_cut:927]\n",
    "crop = cv2.cvtColor(crop, cv2.COLOR_GRAY2RGB)\n",
    "\n",
    "x_coord_list = []\n",
    "y_coord_list = []\n",
    "pci_list = []\n",
    "for lon in range(0, crop.shape[1]) :\n",
    "    for lat in range(0, crop.shape[0]) :\n",
    "        x_coord_list.append(x_cut + lon)\n",
    "        y_coord_list.append(y_cut + lat)\n",
    "        \n",
    "background = get_map_image(black_white=True)\n",
    "x_coord_view = [lon for lon in x_coord_list]\n",
    "y_coord_view = [lat for lat in y_coord_list]\n",
    "\n",
    "generated_function = [generate_predicted_data_pci, \n",
    "                      generate_predicted_data_rsrp, \n",
    "                      generate_predicted_data_rsrq, \n",
    "                      generate_predicted_data_snr]\n",
    "\n",
    "all_x_pci = pd.DataFrame({'location_x':x_coord_list, 'location_y':y_coord_list})\n",
    "\n",
    "normalize_rsrq = matplotlib.colors.Normalize(vmin=-9, vmax=-5)\n",
    "normalize_snr = matplotlib.colors.Normalize(vmin=0, vmax=30)"
   ]
  },
  {
   "cell_type": "markdown",
   "metadata": {},
   "source": [
    "# Predict "
   ]
  },
  {
   "cell_type": "code",
   "execution_count": null,
   "metadata": {},
   "outputs": [],
   "source": [
    "prediction_columns = [\"PCI\", \"RSRP\", \"RSRQ\", \"SNR\"]\n",
    "# min 1, max 3\n",
    "pred_index = 2\n",
    "set_val = 1\n",
    "powers = {37:-2, 38:3, 39:0, 40:5, 41:-1, 42:16}\n",
    "ml_name = 'xgboost'\n",
    "training_method = 'baseline'  \n",
    "training_method = 'independent_set_%d' % (set_val) \n",
    "training_method = 'transfer_except_%d' % (set_val) \n",
    "training_method = 'bayesian_independent_%d' % (set_val) "
   ]
  },
  {
   "cell_type": "code",
   "execution_count": null,
   "metadata": {},
   "outputs": [],
   "source": [
    "pred_col = prediction_columns[pred_index]\n",
    "model_name = 'db/%s_%s_%s' % (pred_col, ml_name, training_method)\n",
    "model = pickle.load(open(model_name + \".pickle.dat\", \"rb\"))\n",
    "normalized = [None, None, normalize_rsrq, normalize_snr]"
   ]
  },
  {
   "cell_type": "code",
   "execution_count": null,
   "metadata": {},
   "outputs": [],
   "source": [
    "def add_custom_feature(df, power_val) :\n",
    "    for p in power_val :\n",
    "        df[\"Power_\" + str(p)] = power_val[p]\n",
    "    df = add_distance(df)\n",
    "    df = add_angle_map(df)\n",
    "    return df"
   ]
  },
  {
   "cell_type": "code",
   "execution_count": null,
   "metadata": {},
   "outputs": [],
   "source": [
    "if set_val is None :\n",
    "    all_x_data = add_custom_feature(pd.DataFrame(all_x_pci), powers)\n",
    "else :\n",
    "    all_x_data = add_features(pd.DataFrame(all_x_pci), 6, set_val)\n",
    "    beam_columns = [c for c in all_x_data if \"beam\" in c]\n",
    "    all_x_data = all_x_data.drop(beam_columns, axis=1)\n",
    "\n",
    "if 'transfer' not in training_method:\n",
    "    all_x_data['set'] = set_val if set_val is not None else 0"
   ]
  },
  {
   "cell_type": "code",
   "execution_count": null,
   "metadata": {},
   "outputs": [],
   "source": [
    "for i in range(pred_index+1) :\n",
    "    if i == 1  :\n",
    "        all_x_data['set'] = set_val if set_val is not None else 0\n",
    "    \n",
    "    model_name = 'db/%s_%s_%s' % (prediction_columns[i], ml_name, training_method)\n",
    "    print(i, model_name)\n",
    "    model = pickle.load(open(model_name + \".pickle.dat\", \"rb\"))\n",
    "    all_x_data[prediction_columns[i]] = model.predict(all_x_data)\n",
    "\n",
    "    if i == 0 :\n",
    "        all_x_data[\"PCI\"] = all_x_data[\"PCI\"].apply(lambda x : pci_decode[x])\n",
    "        \n",
    "    c = [x for x in all_x_data.columns]\n",
    "    all_x_data = all_x_data[c[:2+i] + c[-1:] + c[2+i:-1]]"
   ]
  },
  {
   "cell_type": "code",
   "execution_count": null,
   "metadata": {},
   "outputs": [],
   "source": [
    "all_y = all_x_data[prediction_columns[pred_index]]\n",
    "\n",
    "if normalized[pred_index] is None :\n",
    "    normalize = matplotlib.colors.Normalize(vmin=min(all_y), vmax=max(all_y))\n",
    "else :\n",
    "    normalize = normalized[pred_index]\n",
    "    \n",
    "data_pred = [cmap(normalize(value))[:3] for value in all_y]\n",
    "data_pred = [[int(x*255) for x in value] for value in data_pred]\n",
    "set_val_name = set_val if set_val is not None else 0\n",
    "path = \"../results/predicted/%s/%s/priority_%d_set_%d.png\" % (pred_col.lower(), ml_name, 6, set_val_name)\n",
    "a=visualize_all_location_heatmap(get_map_image(black_white=True), x_coord_view, y_coord_view, data_pred, \n",
    "                                 cmap, normalize, filename=path,\n",
    "                                 size=1, figsize=(20,10), adjustment=True)"
   ]
  },
  {
   "cell_type": "code",
   "execution_count": null,
   "metadata": {},
   "outputs": [],
   "source": []
  }
 ],
 "metadata": {
  "kernelspec": {
   "display_name": "Python 3",
   "language": "python",
   "name": "python3"
  },
  "language_info": {
   "codemirror_mode": {
    "name": "ipython",
    "version": 3
   },
   "file_extension": ".py",
   "mimetype": "text/x-python",
   "name": "python",
   "nbconvert_exporter": "python",
   "pygments_lexer": "ipython3",
   "version": "3.6.5"
  }
 },
 "nbformat": 4,
 "nbformat_minor": 2
}
